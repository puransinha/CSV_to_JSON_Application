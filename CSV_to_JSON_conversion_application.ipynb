{
 "cells": [
  {
   "cell_type": "markdown",
   "id": "6251aefa",
   "metadata": {},
   "source": [
    "#  *** A Small application ***\n",
    "## How to covert the CSV file with JSON format"
   ]
  },
  {
   "cell_type": "code",
   "execution_count": 32,
   "id": "fad9c533",
   "metadata": {},
   "outputs": [],
   "source": [
    "# Import all the relevant necessary Libraries\n",
    "import numpy as np\n",
    "import pandas as pd\n",
    "\n",
    "# Using TkInter for displaying in a attractive format\n",
    "import tkinter as tk\n",
    "import tkinter as tk\n",
    "from tkinter import filedialog\n",
    "from tkinter import messagebox"
   ]
  },
  {
   "cell_type": "code",
   "execution_count": 33,
   "id": "8e6d81c7",
   "metadata": {},
   "outputs": [
    {
     "data": {
      "text/html": [
       "<div>\n",
       "<style scoped>\n",
       "    .dataframe tbody tr th:only-of-type {\n",
       "        vertical-align: middle;\n",
       "    }\n",
       "\n",
       "    .dataframe tbody tr th {\n",
       "        vertical-align: top;\n",
       "    }\n",
       "\n",
       "    .dataframe thead th {\n",
       "        text-align: right;\n",
       "    }\n",
       "</style>\n",
       "<table border=\"1\" class=\"dataframe\">\n",
       "  <thead>\n",
       "    <tr style=\"text-align: right;\">\n",
       "      <th></th>\n",
       "      <th>Unnamed: 0</th>\n",
       "      <th>TV</th>\n",
       "      <th>radio</th>\n",
       "      <th>newspaper</th>\n",
       "      <th>sales</th>\n",
       "    </tr>\n",
       "  </thead>\n",
       "  <tbody>\n",
       "    <tr>\n",
       "      <th>0</th>\n",
       "      <td>1</td>\n",
       "      <td>230.1</td>\n",
       "      <td>37.8</td>\n",
       "      <td>69.2</td>\n",
       "      <td>22.1</td>\n",
       "    </tr>\n",
       "    <tr>\n",
       "      <th>1</th>\n",
       "      <td>2</td>\n",
       "      <td>44.5</td>\n",
       "      <td>39.3</td>\n",
       "      <td>45.1</td>\n",
       "      <td>10.4</td>\n",
       "    </tr>\n",
       "    <tr>\n",
       "      <th>2</th>\n",
       "      <td>3</td>\n",
       "      <td>17.2</td>\n",
       "      <td>45.9</td>\n",
       "      <td>69.3</td>\n",
       "      <td>9.3</td>\n",
       "    </tr>\n",
       "    <tr>\n",
       "      <th>3</th>\n",
       "      <td>4</td>\n",
       "      <td>151.5</td>\n",
       "      <td>41.3</td>\n",
       "      <td>58.5</td>\n",
       "      <td>18.5</td>\n",
       "    </tr>\n",
       "    <tr>\n",
       "      <th>4</th>\n",
       "      <td>5</td>\n",
       "      <td>180.8</td>\n",
       "      <td>10.8</td>\n",
       "      <td>58.4</td>\n",
       "      <td>12.9</td>\n",
       "    </tr>\n",
       "  </tbody>\n",
       "</table>\n",
       "</div>"
      ],
      "text/plain": [
       "   Unnamed: 0     TV  radio  newspaper  sales\n",
       "0           1  230.1   37.8       69.2   22.1\n",
       "1           2   44.5   39.3       45.1   10.4\n",
       "2           3   17.2   45.9       69.3    9.3\n",
       "3           4  151.5   41.3       58.5   18.5\n",
       "4           5  180.8   10.8       58.4   12.9"
      ]
     },
     "execution_count": 33,
     "metadata": {},
     "output_type": "execute_result"
    }
   ],
   "source": [
    "#Open  a CSV file and check the records for testing purpose\n",
    "df=pd.read_csv('/home/puran/Documents/assignments/Advertising.csv')\n",
    "df.head()"
   ]
  },
  {
   "cell_type": "code",
   "execution_count": 34,
   "id": "4cf2499e",
   "metadata": {},
   "outputs": [],
   "source": [
    "# Convert to Json Format with Simple Command\n",
    "df.to_json('/home/puran/Documents/converted_json.json')"
   ]
  },
  {
   "cell_type": "code",
   "execution_count": 35,
   "id": "2379e414",
   "metadata": {},
   "outputs": [],
   "source": [
    "# Start Building the applications \n",
    "root= tk.Tk() ## Defining the root\n",
    "\n",
    "# Setting the Canvas with their width, Height\n",
    "canvas1 = tk.Canvas(root, width = 300, height = 300, bg = 'lightsteelblue2', relief = 'raised')\n",
    "canvas1.pack()"
   ]
  },
  {
   "cell_type": "code",
   "execution_count": 36,
   "id": "4b110fef",
   "metadata": {},
   "outputs": [
    {
     "data": {
      "text/plain": [
       "1"
      ]
     },
     "execution_count": 36,
     "metadata": {},
     "output_type": "execute_result"
    }
   ],
   "source": [
    "## Setting the Labels and Canvas Windows\n",
    "\n",
    "label1 = tk.Label(root, text='File Conversion Tool', bg = 'lightsteelblue2')\n",
    "label1.config(font=('helvetica', 20))\n",
    "canvas1.create_window(150, 60, window=label1)"
   ]
  },
  {
   "cell_type": "code",
   "execution_count": 37,
   "id": "558f89f8",
   "metadata": {},
   "outputs": [],
   "source": [
    "# Defining the Functions for getting the CSV files from your directory\n",
    "\n",
    "def getCSV ():\n",
    "    global read_file\n",
    "    \n",
    "    import_file_path = filedialog.askopenfilename()\n",
    "    read_file = pd.read_csv (import_file_path)"
   ]
  },
  {
   "cell_type": "code",
   "execution_count": 38,
   "id": "e7180568",
   "metadata": {},
   "outputs": [
    {
     "data": {
      "text/plain": [
       "2"
      ]
     },
     "execution_count": 38,
     "metadata": {},
     "output_type": "execute_result"
    }
   ],
   "source": [
    "browseButton_CSV = tk.Button(text=\"      Import CSV File     \", command=getCSV, bg='yellow', fg='black', font=('helvetica', 12, 'bold'))\n",
    "canvas1.create_window(150, 130, window=browseButton_CSV)"
   ]
  },
  {
   "cell_type": "code",
   "execution_count": 39,
   "id": "dc15b4ec",
   "metadata": {},
   "outputs": [],
   "source": [
    "# Defining the functions for conversion of CSV to JSON format\n",
    "\n",
    "def convertToJSON ():\n",
    "    global read_file\n",
    "    \n",
    "    export_file_path = filedialog.asksaveasfilename(defaultextension='.json')\n",
    "    read_file.to_json (export_file_path)"
   ]
  },
  {
   "cell_type": "code",
   "execution_count": 40,
   "id": "36f4d64e",
   "metadata": {},
   "outputs": [
    {
     "data": {
      "text/plain": [
       "3"
      ]
     },
     "execution_count": 40,
     "metadata": {},
     "output_type": "execute_result"
    }
   ],
   "source": [
    "saveAsButton_JSON = tk.Button(text='Convert CSV to JSON', command=convertToJSON, bg='green', fg='white', font=('helvetica', 12, 'bold'))\n",
    "canvas1.create_window(150, 180, window=saveAsButton_JSON)"
   ]
  },
  {
   "cell_type": "code",
   "execution_count": 41,
   "id": "1418c253",
   "metadata": {},
   "outputs": [],
   "source": [
    "# Defining the function to exit from Application\n",
    "def exitApplication():\n",
    "    MsgBox = tk.messagebox.askquestion ('Exit Application','Are you sure you want to exit the application',icon = 'warning')\n",
    "    if MsgBox == 'yes':\n",
    "       root.destroy()"
   ]
  },
  {
   "cell_type": "code",
   "execution_count": 42,
   "id": "377c1e64",
   "metadata": {},
   "outputs": [
    {
     "data": {
      "text/plain": [
       "4"
      ]
     },
     "execution_count": 42,
     "metadata": {},
     "output_type": "execute_result"
    }
   ],
   "source": [
    "exitButton = tk.Button (root, text='       Exit Application     ',command=exitApplication, bg='red', fg='white', font=('helvetica', 12, 'bold'))\n",
    "canvas1.create_window(150, 230, window=exitButton)"
   ]
  },
  {
   "cell_type": "code",
   "execution_count": 43,
   "id": "d18939a8",
   "metadata": {},
   "outputs": [],
   "source": [
    "## Run the Functions\n",
    "root.mainloop()"
   ]
  },
  {
   "cell_type": "code",
   "execution_count": null,
   "id": "017aba83",
   "metadata": {},
   "outputs": [],
   "source": []
  }
 ],
 "metadata": {
  "kernelspec": {
   "display_name": "Python 3",
   "language": "python",
   "name": "python3"
  },
  "language_info": {
   "codemirror_mode": {
    "name": "ipython",
    "version": 3
   },
   "file_extension": ".py",
   "mimetype": "text/x-python",
   "name": "python",
   "nbconvert_exporter": "python",
   "pygments_lexer": "ipython3",
   "version": "3.8.5"
  }
 },
 "nbformat": 4,
 "nbformat_minor": 5
}
